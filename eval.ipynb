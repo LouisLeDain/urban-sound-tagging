{
 "cells": [
  {
   "cell_type": "markdown",
   "metadata": {
    "id": "V92xT2lhdCoF"
   },
   "source": [
    "# Evaluation\n"
   ]
  },
  {
   "cell_type": "code",
   "execution_count": 1,
   "metadata": {
    "id": "uzEkoYHRDkI-"
   },
   "outputs": [],
   "source": [
    "import numpy as np\n",
    "import os\n",
    "import shutil\n",
    "import pandas as pd\n",
    "import oyaml as yaml\n",
    "import pytz\n",
    "import datetime\n",
    "import json\n",
    "from tqdm import tqdm\n",
    "from utils import get_file_targets, get_subset_split, generate_output_file, predict\n",
    "from metrics import evaluate, micro_averaged_auprc, macro_averaged_auprc"
   ]
  },
  {
   "cell_type": "markdown",
   "metadata": {
    "id": "eScdDuGHMil8"
   },
   "source": [
    "### Define important paths"
   ]
  },
  {
   "cell_type": "code",
   "execution_count": 2,
   "metadata": {
    "id": "HwMtwyCmMlOz"
   },
   "outputs": [],
   "source": [
    "from paths import (root_path, ust_data_dir, dataset_dir, annotation_file, \n",
    "                   taxonomy_file, log_mel_spec_dir)\n",
    "\n",
    "os.chdir(root_path)"
   ]
  },
  {
   "cell_type": "code",
   "execution_count": 3,
   "metadata": {},
   "outputs": [
    {
     "data": {
      "text/plain": [
       "'/data/enseignement/2024-2025/ubran-sound-tagging/UST-project-complete-gitlab/data/ust-data/sonyc-ust/annotations.csv'"
      ]
     },
     "execution_count": 3,
     "metadata": {},
     "output_type": "execute_result"
    }
   ],
   "source": [
    "annotation_file"
   ]
  },
  {
   "cell_type": "markdown",
   "metadata": {
    "id": "dPakCQ0mwqRH"
   },
   "source": [
    "## Define parameters\n"
   ]
  },
  {
   "cell_type": "code",
   "execution_count": 4,
   "metadata": {
    "id": "jTSLmdEEwuNY"
   },
   "outputs": [],
   "source": [
    "exp_id = 'baseline_2024-11-27-12h35m18s'\n",
    "output_dir = os.path.join(root_path, 'data/output', exp_id)\n",
    "results_dir = output_dir"
   ]
  },
  {
   "cell_type": "markdown",
   "metadata": {
    "id": "MImVKG8Cw6ae"
   },
   "source": [
    "## Load annotations and taxonomy"
   ]
  },
  {
   "cell_type": "code",
   "execution_count": 5,
   "metadata": {
    "id": "4eK-7Mwrw-AW"
   },
   "outputs": [],
   "source": [
    "# Create a Pandas DataFrame from the annotation CSV file\n",
    "annotation_data = pd.read_csv(annotation_file).sort_values('audio_filename')\n",
    "\n",
    "# List of all audio files\n",
    "file_list = annotation_data['audio_filename'].unique().tolist()\n",
    "\n",
    "# Load taxonomy\n",
    "with open(taxonomy_file, 'r') as f:\n",
    "    taxonomy = yaml.load(f, Loader=yaml.Loader)\n",
    "\n",
    "train_file_idxs, val_file_idxs, test_file_idxs = get_subset_split(annotation_data)"
   ]
  },
  {
   "cell_type": "markdown",
   "metadata": {
    "id": "9VA6LQT8djhj"
   },
   "source": [
    "## Compute scores"
   ]
  },
  {
   "cell_type": "code",
   "execution_count": 6,
   "metadata": {
    "colab": {
     "base_uri": "https://localhost:8080/"
    },
    "executionInfo": {
     "elapsed": 13713,
     "status": "ok",
     "timestamp": 1709126546616,
     "user": {
      "displayName": "Simon Leglaive",
      "userId": "11077923176141204628"
     },
     "user_tz": -60
    },
    "id": "jwCkT7-8ZULd",
    "outputId": "453e9438-be95-4ea0-dcd6-3b7c8030323d"
   },
   "outputs": [
    {
     "name": "stdout",
     "output_type": "stream",
     "text": [
      "TEST\n",
      "\n",
      "Micro AUPRC:           0.538881508494923\n",
      "Micro F1-score (@0.5): 0.5160349854227405\n",
      "Macro AUPRC:           0.34677372931075534\n",
      "Coarse Tag AUPRC:\n",
      "      - 1: 0.6191022821571157\n",
      "      - 2: 0.44772012872907624\n",
      "      - 3: 0.07438396886686426\n",
      "      - 4: 0.25798435561318195\n",
      "      - 5: 0.5059466169985891\n",
      "      - 6: 0.08663275324410852\n",
      "      - 7: 0.5818042955548152\n",
      "      - 8: 0.20061543332229217\n"
     ]
    }
   ],
   "source": [
    "# Prediction on test set\n",
    "\n",
    "print(\"TEST\\n\")\n",
    "\n",
    "prediction_file = os.path.join(output_dir, 'output_predictions_test.csv')\n",
    "\n",
    "df_dict = evaluate(prediction_file,\n",
    "                  annotation_file,\n",
    "                  taxonomy_file,\n",
    "                  'coarse',\n",
    "                  'test')\n",
    "\n",
    "micro_auprc, eval_df = micro_averaged_auprc(df_dict, return_df=True)\n",
    "macro_auprc, class_auprc = macro_averaged_auprc(df_dict, return_classwise=True)\n",
    "\n",
    "# Get index of first threshold that is at least 0.5\n",
    "thresh_0pt5_idx = (eval_df['threshold'] >= 0.5).to_numpy().nonzero()[0][0]\n",
    "\n",
    "print(\"Micro AUPRC:           {}\".format(micro_auprc))\n",
    "print(\"Micro F1-score (@0.5): {}\".format(eval_df[\"F\"][thresh_0pt5_idx]))\n",
    "print(\"Macro AUPRC:           {}\".format(macro_auprc))\n",
    "print(\"Coarse Tag AUPRC:\")\n",
    "\n",
    "for coarse_id, auprc in class_auprc.items():\n",
    "    print(\"      - {}: {}\".format(coarse_id, auprc))\n",
    "\n",
    "with open(os.path.join(output_dir, 'final_results_test.txt'), 'w') as f:\n",
    "    f.write(\"Micro AUPRC:           {}\\n\".format(micro_auprc))\n",
    "    f.write(\"Micro F1-score (@0.5): {}\\n\".format(eval_df[\"F\"][thresh_0pt5_idx]))\n",
    "    f.write(\"Macro AUPRC:           {}\\n\".format(macro_auprc))\n",
    "    f.write(\"Coarse Tag AUPRC:\\n\")\n",
    "    for coarse_id, auprc in class_auprc.items():\n",
    "        f.write(\"      - {}: {}\\n\".format(coarse_id, auprc))\n"
   ]
  }
 ],
 "metadata": {
  "accelerator": "GPU",
  "colab": {
   "gpuType": "V100",
   "provenance": []
  },
  "kernelspec": {
   "display_name": "ust-project",
   "language": "python",
   "name": "python3"
  },
  "language_info": {
   "codemirror_mode": {
    "name": "ipython",
    "version": 3
   },
   "file_extension": ".py",
   "mimetype": "text/x-python",
   "name": "python",
   "nbconvert_exporter": "python",
   "pygments_lexer": "ipython3",
   "version": "3.10.14"
  }
 },
 "nbformat": 4,
 "nbformat_minor": 0
}
